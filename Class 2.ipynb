{
 "cells": [
  {
   "cell_type": "code",
   "execution_count": 1,
   "metadata": {},
   "outputs": [
    {
     "name": "stdout",
     "output_type": "stream",
     "text": [
      "This is valid statement\n"
     ]
    }
   ],
   "source": [
    "a=10\n",
    "b=20\n",
    "if a==10 and b==20: \n",
    "    print('This is valid statement')"
   ]
  },
  {
   "cell_type": "code",
   "execution_count": 2,
   "metadata": {},
   "outputs": [
    {
     "data": {
      "text/plain": [
       "True"
      ]
     },
     "execution_count": 2,
     "metadata": {},
     "output_type": "execute_result"
    }
   ],
   "source": [
    "a==10 and b==20\n"
   ]
  },
  {
   "cell_type": "code",
   "execution_count": 3,
   "metadata": {},
   "outputs": [],
   "source": [
    "a=10\n",
    "b=20\n",
    "if a==10 and b>20: #NO output whole codition is false it wont go inside if statement\n",
    "    print('This is valid statement')"
   ]
  },
  {
   "cell_type": "code",
   "execution_count": 4,
   "metadata": {},
   "outputs": [
    {
     "data": {
      "text/plain": [
       "False"
      ]
     },
     "execution_count": 4,
     "metadata": {},
     "output_type": "execute_result"
    }
   ],
   "source": [
    "a==10 and b>20"
   ]
  },
  {
   "cell_type": "code",
   "execution_count": 6,
   "metadata": {},
   "outputs": [
    {
     "name": "stdout",
     "output_type": "stream",
     "text": [
      "Not valid statement\n"
     ]
    }
   ],
   "source": [
    "a=10\n",
    "b=20\n",
    "if a==10 and b>20: \n",
    "    print('This is valid statement')\n",
    "else:\n",
    "    print('Not valid statement')"
   ]
  },
  {
   "cell_type": "code",
   "execution_count": 8,
   "metadata": {},
   "outputs": [
    {
     "name": "stdout",
     "output_type": "stream",
     "text": [
      "Not valid statement\n"
     ]
    }
   ],
   "source": [
    "a=10\n",
    "b=20\n",
    "if a==10 and b>20: \n",
    "    print('This is valid statement')\n",
    "elif a==10 and b<20:\n",
    "    print('This statement of elif is invalid')\n",
    "else:\n",
    "    print('Not valid statement')"
   ]
  },
  {
   "cell_type": "code",
   "execution_count": 9,
   "metadata": {},
   "outputs": [
    {
     "name": "stdout",
     "output_type": "stream",
     "text": [
      "This is valid statement\n"
     ]
    }
   ],
   "source": [
    "a=10\n",
    "b=20\n",
    "if a==10 or b>20: \n",
    "    print('This is valid statement')\n",
    "elif a==10 and b<20:\n",
    "    print('This statement of elif is invalid')\n",
    "else:\n",
    "    print('Not valid statement')"
   ]
  },
  {
   "cell_type": "code",
   "execution_count": 10,
   "metadata": {},
   "outputs": [
    {
     "name": "stdout",
     "output_type": "stream",
     "text": [
      "Enter your nameRajat\n",
      "Enter your second nameKumar\n",
      "The full name is Rajat Kumar Sahu\n"
     ]
    }
   ],
   "source": [
    "a=str(input('Enter your name '))\n",
    "b=str(input('Enter your second name '))\n",
    "\n",
    "if a=='Rajat'and b=='Kumar':\n",
    "    print('The full name is Rajat Kumar Sahu')\n",
    "else :\n",
    "    print('Not a Valid Name')"
   ]
  },
  {
   "cell_type": "markdown",
   "metadata": {},
   "source": [
    "### While statement"
   ]
  },
  {
   "cell_type": "code",
   "execution_count": 23,
   "metadata": {},
   "outputs": [
    {
     "name": "stdout",
     "output_type": "stream",
     "text": [
      "This is my Speed\n",
      "This is my Speed\n",
      "This is my Speed\n",
      "This is my Speed\n",
      "This is my Speed\n",
      "This is my Speed\n",
      "This is my Speed\n",
      "This is my Speed\n",
      "This is my Speed\n",
      "This is my Speed\n",
      "This is my Speed\n",
      "This is my Speed\n"
     ]
    }
   ],
   "source": [
    "inital_speed=0\n",
    "final_speed=12\n",
    "count=1\n",
    "while inital_speed<final_speed:\n",
    "    print('This is my Speed')\n",
    "    count=count+1\n",
    "    inital_speed=inital_speed+1\n",
    "    if count==1000:\n",
    "        break"
   ]
  },
  {
   "cell_type": "code",
   "execution_count": 27,
   "metadata": {},
   "outputs": [
    {
     "name": "stdout",
     "output_type": "stream",
     "text": [
      "Value of  1\n",
      "Value of  2\n",
      "Value of  3\n",
      "Value of  4\n"
     ]
    }
   ],
   "source": [
    "i=1\n",
    "j=5\n",
    "while i<j:\n",
    "    print('Value of ',i)\n",
    "    i=i+1"
   ]
  },
  {
   "cell_type": "code",
   "execution_count": null,
   "metadata": {},
   "outputs": [],
   "source": []
  },
  {
   "cell_type": "code",
   "execution_count": null,
   "metadata": {},
   "outputs": [],
   "source": []
  },
  {
   "cell_type": "code",
   "execution_count": null,
   "metadata": {},
   "outputs": [],
   "source": []
  },
  {
   "cell_type": "code",
   "execution_count": null,
   "metadata": {},
   "outputs": [],
   "source": []
  },
  {
   "cell_type": "code",
   "execution_count": null,
   "metadata": {},
   "outputs": [],
   "source": []
  },
  {
   "cell_type": "code",
   "execution_count": null,
   "metadata": {},
   "outputs": [],
   "source": []
  },
  {
   "cell_type": "code",
   "execution_count": null,
   "metadata": {},
   "outputs": [],
   "source": []
  }
 ],
 "metadata": {
  "kernelspec": {
   "display_name": "Python 3",
   "language": "python",
   "name": "python3"
  },
  "language_info": {
   "codemirror_mode": {
    "name": "ipython",
    "version": 3
   },
   "file_extension": ".py",
   "mimetype": "text/x-python",
   "name": "python",
   "nbconvert_exporter": "python",
   "pygments_lexer": "ipython3",
   "version": "3.8.5"
  }
 },
 "nbformat": 4,
 "nbformat_minor": 4
}
